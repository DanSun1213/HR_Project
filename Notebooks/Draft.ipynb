{
 "cells": [
  {
   "cell_type": "code",
   "execution_count": null,
   "metadata": {
    "vscode": {
     "languageId": "plaintext"
    }
   },
   "outputs": [],
   "source": [
    "python -m venv .venv(name) # Create a pip environment\n",
    "\n",
    "source .venv/bin/activate # Activate the environment\n",
    "\n",
    "pip install (library name) # install any needed packages\n",
    "\n",
    "touch requirements.txt # Create the requirements txt file\n",
    "\n",
    "pip freeze > requirements.txt # save all pkg names in requirements\n",
    "\n",
    "pip install -r requirements.txt # read requirements and install pkgs"
   ]
  }
 ],
 "metadata": {
  "language_info": {
   "name": "python"
  }
 },
 "nbformat": 4,
 "nbformat_minor": 2
}
